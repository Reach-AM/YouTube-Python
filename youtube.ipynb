{
  "nbformat": 4,
  "nbformat_minor": 0,
  "metadata": {
    "colab": {
      "name": "youtube.ipynb",
      "provenance": [],
      "collapsed_sections": []
    },
    "kernelspec": {
      "name": "python3",
      "display_name": "Python 3"
    }
  },
  "cells": [
    {
      "cell_type": "markdown",
      "metadata": {
        "id": "aNzx6-aaLkSk"
      },
      "source": [
        "# **Código para analizar los metadatos de YouTube**"
      ]
    },
    {
      "cell_type": "code",
      "metadata": {
        "id": "NQnkEf5fzSp-"
      },
      "source": [
        "import urllib.request as url\n",
        "import random as rand\n",
        "rand.seed(12)"
      ],
      "execution_count": 1,
      "outputs": []
    },
    {
      "cell_type": "markdown",
      "metadata": {
        "id": "N2UDKJb6LyYe"
      },
      "source": [
        "## **1. Generar links aleatorios de YouTube**"
      ]
    },
    {
      "cell_type": "code",
      "metadata": {
        "id": "GbbtaAZWOukW"
      },
      "source": [
        "def ytlink(seed):\n",
        "  rand.seed(seed)\n",
        "  alpha = ['a','b','c','d','e','f','g','h','i','j','k','l','m','n','o','p','q','r','s','t','u','v','w','x','y','z']\n",
        "  ALPHA = ['A','B','C','D','E','F','G','H','I','J','K','L','M','N','O','P','Q','R','S','T','U','V','W','X','Y','Z']\n",
        "  num = ['1','2','3','4','5','6','7','8','9','0','-','_']\n",
        "  pool = [alpha, ALPHA, num]\n",
        "  youtube = 'https://www.youtube.com/watch?v='\n",
        "  for i in range(0,11):\n",
        "    s = rand.randint(0,len(pool)-1)\n",
        "    ss = rand.randint(0,len(pool[s])-1)\n",
        "    youtube += pool[s][ss]\n",
        "  print(youtube)\n",
        "  return(youtube)"
      ],
      "execution_count": 2,
      "outputs": []
    },
    {
      "cell_type": "markdown",
      "metadata": {
        "id": "_j87z0lwM4oP"
      },
      "source": [
        "## **2. Funciones para extraer el contenido de las urls de YouTube**"
      ]
    },
    {
      "cell_type": "code",
      "metadata": {
        "id": "9agAOM8C9Jxv"
      },
      "source": [
        "def getContent(yturl):\n",
        "  webUrl = url.urlopen(yturl)\n",
        "  if (webUrl.getcode()!= 200):\n",
        "    return('Wrong URL!')\n",
        "  return str(webUrl.read())"
      ],
      "execution_count": 3,
      "outputs": []
    },
    {
      "cell_type": "code",
      "metadata": {
        "id": "vCuEv2-FRQPJ"
      },
      "source": [
        "def getData(yturl):\n",
        "  cont = getContent(yturl)\n",
        "  if (cont == 'Wrong URL!'):\n",
        "    return('Wrong URL!')\n",
        "\n",
        "  NameIni = cont.index('<meta name=\"title\" content=') + 27\n",
        "  NameFin = cont[NameIni:].index('\">') + NameIni + 1\n",
        "\n",
        "  MetaIni = cont.index('<meta name=\"keywords\" content=') + 31\n",
        "  MetaFin = cont[MetaIni:].index('\">') + MetaIni\n",
        "\n",
        "  if (cont.find('viewCount') > 0):\n",
        "    ViewsIni = cont.index('viewCount') + 12\n",
        "    ViewsFin = cont[ViewsIni:].index('\"')+ ViewsIni\n",
        "    data = [yturl, cont[NameIni:NameFin], cont[MetaIni:MetaFin].split(', '), int(cont[ViewsIni:ViewsFin])]\n",
        "  else:\n",
        "    data = [yturl, cont[NameIni:NameFin], cont[MetaIni:MetaFin].split(', '), False]\n",
        "  return(data)"
      ],
      "execution_count": 4,
      "outputs": []
    },
    {
      "cell_type": "code",
      "metadata": {
        "id": "0-FExmDS71Na"
      },
      "source": [
        "# Se intento generar videos aleatorios, pero al realizar un analisis se \n",
        "# descubrio que la probabilidad de generar un video de YouTube al azar\n",
        "# es del 0.0000000054% \n",
        "#\n",
        "# nextVideo = []\n",
        "# for i in range(1):\n",
        "#   print(\"Video:\" + str(i))\n",
        "#   titulo = '\"\"'\n",
        "#   while (titulo == '\"\"'):\n",
        "#     seed = rand.randint(1,1000000)\n",
        "#     nextVideo = getData(ytlink(seed))\n",
        "#     titulo = nextVideo[1]\n",
        "#   videos.append(nextVideo)\n"
      ],
      "execution_count": 5,
      "outputs": []
    },
    {
      "cell_type": "code",
      "metadata": {
        "id": "_ElyjB4RwYAs"
      },
      "source": [
        "links = ['https://www.youtube.com/watch?v=FWaCe9fmsNM', 'https://www.youtube.com/watch?v=iZnLZFRylbs', 'https://www.youtube.com/watch?v=r2geJMK84ME',\n",
        "         'https://www.youtube.com/watch?v=G86YBWspJVY', 'https://www.youtube.com/watch?v=kleKetOBXC8', 'https://www.youtube.com/watch?v=MCUJNt_rgI8',\n",
        "         'https://www.youtube.com/watch?v=PEnJbjBuxnw', 'https://www.youtube.com/watch?v=xD-IQaxHcE4', 'https://www.youtube.com/watch?v=a6HKeqWY6T4']\n",
        "videos = []\n",
        "for link in links:\n",
        "  videos.append(getData(link))"
      ],
      "execution_count": 7,
      "outputs": []
    },
    {
      "cell_type": "code",
      "metadata": {
        "colab": {
          "base_uri": "https://localhost:8080/"
        },
        "id": "Z84pOQUax3f-",
        "outputId": "725feed2-928b-4c25-e139-621df33d0fd7"
      },
      "source": [
        "videos"
      ],
      "execution_count": 8,
      "outputs": [
        {
          "output_type": "execute_result",
          "data": {
            "text/plain": [
              "[['https://www.youtube.com/watch?v=FWaCe9fmsNM',\n",
              "  '\"this kraber play was downright disrespectful...\"',\n",
              "  ['lululuvely',\n",
              "   'lululuvely apex',\n",
              "   'lulu apex',\n",
              "   'apex legends',\n",
              "   'apex kraber',\n",
              "   'apex sniper',\n",
              "   'apex legends kraber',\n",
              "   'how to snipe apex',\n",
              "   'kraber apex noscope',\n",
              "   'kraber apex montage',\n",
              "   'apex legends montage',\n",
              "   'apex legends rage',\n",
              "   'apex legends fail',\n",
              "   'apex legends win',\n",
              "   'apex legends funny',\n",
              "   'apex funny',\n",
              "   'apex funny moments',\n",
              "   'apex legends tips',\n",
              "   'apex channel',\n",
              "   'apex kraber noscope',\n",
              "   'apex kraber 360',\n",
              "   'apex clips',\n",
              "   'apex legends clips',\n",
              "   'apex funny clip',\n",
              "   'apex twitch clip',\n",
              "   'apex best',\n",
              "   'apex new',\n",
              "   'apex streamer',\n",
              "   'kraber'],\n",
              "  224192],\n",
              " ['https://www.youtube.com/watch?v=iZnLZFRylbs',\n",
              "  '\"Why Progress Bars Don&#39;t Move Smoothly \\\\xe2\\\\x96\\\\x93\\\\xe2\\\\x96\\\\x93\\\\xe2\\\\x96\\\\x93\\\\xe2\\\\x96\\\\x91\\\\xe2\\\\x96\\\\x91\\\\xe2\\\\x96\\\\x91\\\\xe2\\\\x96\\\\x91\\\\xe2\\\\x96\\\\x91\\\\xe2\\\\x96\\\\x91\"',\n",
              "  ['tom scott', 'tomscott', 'the basics', 'computer science'],\n",
              "  2033958],\n",
              " ['https://www.youtube.com/watch?v=r2geJMK84ME',\n",
              "  '\"El Chombo presenta: Daft Punk (El Post Mortem)\"',\n",
              "  ['El Chombo',\n",
              "   'Te lo dijo el chombo',\n",
              "   'daft punk',\n",
              "   'daft punk epilogue',\n",
              "   'daft punk get lucky',\n",
              "   'tributo daft punk',\n",
              "   'explicaci\\\\xc3\\\\xb3n daft punk',\n",
              "   'chacarron',\n",
              "   'papi chulo',\n",
              "   'el gato volador',\n",
              "   'mueve mami',\n",
              "   'bailando',\n",
              "   'Jubilado caribe\\\\xc3\\\\xb1o',\n",
              "   'conocimiento chombal',\n",
              "   'el chombo dame tu cosita'],\n",
              "  829746],\n",
              " ['https://www.youtube.com/watch?v=G86YBWspJVY',\n",
              "  '\"Diogenes the Cynic Didn&#39;t Give a Crap\"',\n",
              "  ['fact',\n",
              "   'fiend',\n",
              "   'facts',\n",
              "   'karl',\n",
              "   'smallwood',\n",
              "   'writer',\n",
              "   'comedy',\n",
              "   'information',\n",
              "   'interesting',\n",
              "   'stand up',\n",
              "   'diogenes',\n",
              "   'cynic',\n",
              "   'cynics',\n",
              "   'cynicism',\n",
              "   'stoic',\n",
              "   'stoicism',\n",
              "   'philosopher',\n",
              "   'philosophy',\n",
              "   'plato',\n",
              "   'antisthenes',\n",
              "   'bowl',\n",
              "   'barrel',\n",
              "   'jar',\n",
              "   'threw',\n",
              "   'ground',\n",
              "   'reign',\n",
              "   'conqueror',\n",
              "   'horrible',\n",
              "   'histories',\n",
              "   'annoying',\n",
              "   'devil',\n",
              "   'dogs',\n",
              "   'dog',\n",
              "   'doggo',\n",
              "   'doggies',\n",
              "   'doge',\n",
              "   'puppy',\n",
              "   'sinope',\n",
              "   'athens',\n",
              "   'greek',\n",
              "   'ancient'],\n",
              "  950927],\n",
              " ['https://www.youtube.com/watch?v=kleKetOBXC8',\n",
              "  '\"El Origen de Nintendo: La Historia en 1 Video\"',\n",
              "  ['federico',\n",
              "   'w2m',\n",
              "   'gameplays',\n",
              "   'juegos',\n",
              "   'comedia',\n",
              "   'fedelobo',\n",
              "   'gameplay',\n",
              "   'games',\n",
              "   'videogames',\n",
              "   'fedewolf',\n",
              "   'la historia en 1 video',\n",
              "   'historias fedelobo',\n",
              "   'historias fedewolf',\n",
              "   'la saga en 1 video',\n",
              "   'tops',\n",
              "   'top videojuegos'],\n",
              "  969430],\n",
              " ['https://www.youtube.com/watch?v=MCUJNt_rgI8',\n",
              "  '\"Counting Stars - Shawn Mendes (Cover)\"',\n",
              "  ['New', 'Project'],\n",
              "  10376986],\n",
              " ['https://www.youtube.com/watch?v=PEnJbjBuxnw',\n",
              "  '\"AJR - World&#39;s Smallest Violin (Official Video)\"',\n",
              "  ['video', 'sharing', 'camera phone', 'video phone', 'free', 'upload'],\n",
              "  120766],\n",
              " ['https://www.youtube.com/watch?v=xD-IQaxHcE4',\n",
              "  '\"When you accidentally write songs that already exist\"',\n",
              "  ['18 micro-songs to boost your mood',\n",
              "   'when you learn a riff and out it in everything',\n",
              "   'daniel thrasher',\n",
              "   'Daniel Thrasher',\n",
              "   'when you wanna play piano but its midnight',\n",
              "   'when you hit a tritone in medieval times',\n",
              "   'when you hit a dead key in medieval times',\n",
              "   'how to play piano',\n",
              "   'piano for beginners',\n",
              "   'piano lessons online'],\n",
              "  17594931],\n",
              " ['https://www.youtube.com/watch?v=a6HKeqWY6T4',\n",
              "  '\"I Made Super Mario Bros but it&#39;s 3D\"',\n",
              "  ['super mario bros',\n",
              "   'mario',\n",
              "   'unity',\n",
              "   'game dev',\n",
              "   'game development',\n",
              "   'unity game dev',\n",
              "   'mario unity',\n",
              "   'super mario unity',\n",
              "   'super mario',\n",
              "   'mario 3d',\n",
              "   'super mario bros 3d',\n",
              "   'i made super mario bros but it&#39;s 3d',\n",
              "   'codycanteatthis',\n",
              "   'voxel',\n",
              "   'magicavoxel',\n",
              "   'voxelart',\n",
              "   'voxels',\n",
              "   'voxel art',\n",
              "   'indie game development',\n",
              "   'mario remake',\n",
              "   'super mario remake',\n",
              "   'mario clone',\n",
              "   'nintendo'],\n",
              "  1953577]]"
            ]
          },
          "metadata": {
            "tags": []
          },
          "execution_count": 8
        }
      ]
    }
  ]
}